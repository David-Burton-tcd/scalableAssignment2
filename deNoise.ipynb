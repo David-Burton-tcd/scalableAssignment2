{
 "cells": [
  {
   "cell_type": "code",
   "execution_count": 1,
   "id": "2127128e",
   "metadata": {},
   "outputs": [
    {
     "name": "stdout",
     "output_type": "stream",
     "text": [
      "Requirement already satisfied: opencv-python in /Users/davidburton/anaconda3/lib/python3.11/site-packages (4.8.1.78)\r\n",
      "Requirement already satisfied: numpy>=1.21.2 in /Users/davidburton/anaconda3/lib/python3.11/site-packages (from opencv-python) (1.24.3)\r\n"
     ]
    }
   ],
   "source": [
    "import sys\n",
    "!{sys.executable} -m pip install opencv-python"
   ]
  },
  {
   "cell_type": "code",
   "execution_count": 89,
   "id": "5240bf31",
   "metadata": {},
   "outputs": [
    {
     "name": "stdout",
     "output_type": "stream",
     "text": [
      "[[255 255 255 ... 255 255 255]\n",
      " [255 255 255 ... 255 255 255]\n",
      " [255 255 255 ... 255 255 255]\n",
      " ...\n",
      " [255 255 255 ... 255 255 255]\n",
      " [255 255 255 ... 255 255 255]\n",
      " [255 255 255 ... 255 255 255]]\n"
     ]
    }
   ],
   "source": [
    "%matplotlib qt\n",
    "import os\n",
    "import cv2\n",
    "import scipy.ndimage\n",
    "import numpy as np\n",
    "\n",
    "class NoiseRemover():\n",
    "    def _erase_circles(img, circles):\n",
    "        circles = circles[0] # hough circles returns a nested list for some reason\n",
    "        for circle in circles:\n",
    "            x = circle[0] # x coordinate of circle's center\n",
    "            y = circle[1] # y coordinate of circle's center\n",
    "            r = circle[2] # radius of circle\n",
    "\n",
    "            img = cv2.circle(img, (int(x), int(y)), radius = int(r), color = (255,0,0), thickness = 2) # erase circle by making it white (to match the image background)\n",
    "        return img\n",
    "\n",
    "\n",
    "    def _detect_and_remove_circles(img):\n",
    "        hough_circle_locations = cv2.HoughCircles(img, method = cv2.HOUGH_GRADIENT, dp = 1, minDist = 1, param1 = 50, param2 = 5, minRadius = 0, maxRadius = 2)\n",
    "        if hough_circle_locations is not None:\n",
    "            img = NoiseRemover._erase_circles(img, hough_circle_locations)\n",
    "            pass\n",
    "        return img\n",
    "\n",
    "    def remove_all_noise(img):\n",
    "        # run some basic tests to get rid of easy-to-remove noise -- first pass\n",
    "        img = ~img # white letters, black background\n",
    "        img = cv2.erode(img, np.ones((3, 2), np.uint8), iterations = 1) # weaken circle noise and line noise\n",
    "        img = ~img # black letters, white background\n",
    "        img = scipy.ndimage.median_filter(img, (5, 1)) # remove line noise\n",
    "        img = scipy.ndimage.median_filter(img, (1, 3)) # weaken circle noise\n",
    "        img = cv2.erode(img, np.ones((2, 2), np.uint8), iterations = 1) # dilate image to initial stage (erode works similar to dilate because we thresholded the image the opposite way)\n",
    "        img = scipy.ndimage.median_filter(img, (3, 3)) # remove any final 'weak' noise that might be present (line or circle)\n",
    "\n",
    "#         detect any remaining circle noise\n",
    "        img = NoiseRemover._detect_and_remove_circles(img) # after dilation, if concrete circles exist, use hough transform to remove them\n",
    "#         show(img)\n",
    "#         eradicate any final noise that wasn't removed previously -- second pass\n",
    "        img = cv2.dilate(img, np.ones((3, 3), np.uint8), iterations = 1) # actually performs erosion\n",
    "        img = scipy.ndimage.median_filter(img, (3, 1)) # finally completely remove any extra noise that remains\n",
    "        img = cv2.dilate(img, np.ones((2, 2), np.uint8), iterations = 1) # erode just a bit to polish fine details\n",
    "        img = cv2.erode(img, np.ones((2, 2), np.uint8), iterations = 2) # dilate image to make it look like the original\n",
    "        return img\n",
    "\n",
    "#############################\n",
    "\n",
    "import cv2\n",
    "import numpy as np\n",
    "\n",
    "def show(img):\n",
    "    cv2.imshow('Image', img)\n",
    "    cv2.waitKey(0)\n",
    "    cv2.destroyAllWindows()    \n",
    "\n",
    "# img = cv2.imread(img_path, cv2.IMREAD_GRAYSCALE)\n",
    "\n",
    "# MgP48, \n",
    "\n",
    "img_o = cv2.imread(\"train/MgP48.png\",cv2.IMREAD_GRAYSCALE)\n",
    "# img_o = cv2.cvtColor(img_o, cv2.COLOR_BGR2RGB)\n",
    "_, img = cv2.threshold(img_o, 222, 255, cv2.THRESH_BINARY) # binarize the image\n",
    "\n",
    "d_img = NoiseRemover.remove_all_noise(img)\n",
    "print(d_img)\n",
    "\n",
    "d_img = cv2.cvtColor(d_img, cv2.COLOR_BGR2RGB)\n",
    "\n",
    "\n",
    "import numpy as np\n",
    "import cv2\n",
    "from matplotlib import pyplot as plt\n",
    "plt.subplot(211),plt.imshow(img_o)\n",
    "plt.subplot(212),\n",
    "plt.imshow(d_img)\n",
    "plt.show()"
   ]
  },
  {
   "cell_type": "code",
   "execution_count": null,
   "id": "ee2347ba",
   "metadata": {},
   "outputs": [],
   "source": []
  }
 ],
 "metadata": {
  "kernelspec": {
   "display_name": "Python 3 (ipykernel)",
   "language": "python",
   "name": "python3"
  },
  "language_info": {
   "codemirror_mode": {
    "name": "ipython",
    "version": 3
   },
   "file_extension": ".py",
   "mimetype": "text/x-python",
   "name": "python",
   "nbconvert_exporter": "python",
   "pygments_lexer": "ipython3",
   "version": "3.11.4"
  }
 },
 "nbformat": 4,
 "nbformat_minor": 5
}
