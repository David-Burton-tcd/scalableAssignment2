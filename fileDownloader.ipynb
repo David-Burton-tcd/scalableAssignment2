{
 "cells": [
  {
   "cell_type": "code",
   "execution_count": 4,
   "id": "a56b3e47",
   "metadata": {},
   "outputs": [
    {
     "name": "stdout",
     "output_type": "stream",
     "text": [
      "File 'dataset/002e7bbdff74325cbd028b01550be2b11d094a45.png' has been downloaded successfully.\n",
      "File 'dataset/00acd298947e0ecc2d9a2cf9fa655f3764981662.png' has been downloaded successfully.\n",
      "File 'dataset/00d05a670a1bbacba4d7c4f734101b0b021bfabc.png' has been downloaded successfully.\n",
      "File 'dataset/00d2f060a6214213de7cee041cf829daf7c3c6d7.png' has been downloaded successfully.\n",
      "File 'dataset/00ffae6800f6d1e62b2f63d00148cc48403a1e17.png' has been downloaded successfully.\n",
      "File 'dataset/01035eb7a0f598f1bdf414c76d25ae4c8aea4ee4.png' has been downloaded successfully.\n",
      "File 'dataset/0156ce416a62f0520d5a725f02968a65f15b774c.png' has been downloaded successfully.\n",
      "File 'dataset/0187bc9357fb21d81ddfdf5373c38278bd131fe0.png' has been downloaded successfully.\n",
      "File 'dataset/018ccb4fa2cb6234d152adfcc3ba2df1c951e15a.png' has been downloaded successfully.\n",
      "File 'dataset/01c41a2a65f9a5abc76bc00bdfe06d225f92f9f9.png' has been downloaded successfully.\n",
      "File 'dataset/01d214b5af0f2d298b134fc79ac25e02889f9a80.png' has been downloaded successfully.\n",
      "File 'dataset/0223a225a329ecf8c4edc1d22ea522070c37957f.png' has been downloaded successfully.\n",
      "File 'dataset/02521ec174aaa73bbaf58720aeaa3433f53e8eb2.png' has been downloaded successfully.\n",
      "File 'dataset/02ac511eaefec4752909638765d47fe45012ec3d.png' has been downloaded successfully.\n",
      "File 'dataset/02bef93ca87ec3f6cf7ea688045c8ab6b89d08b4.png' has been downloaded successfully.\n",
      "File 'dataset/02bfbe0c8be6a6edbac1fa5fb5023c9270020a3b.png' has been downloaded successfully.\n",
      "File 'dataset/02c33de88409093dd5ff823d3404534f454fe74d.png' has been downloaded successfully.\n",
      "File 'dataset/0303e30eb1510c895368d77cf54ed810aa8158ea.png' has been downloaded successfully.\n",
      "File 'dataset/0324f26812742acac3c8abd4b0f30422f7d768a1.png' has been downloaded successfully.\n",
      "File 'dataset/032ad0c4231b939c84f307fb70fb5d82a8d4cd59.png' has been downloaded successfully.\n"
     ]
    }
   ],
   "source": [
    "import requests\n",
    "import pandas as pd\n",
    "\n",
    "csv_file_path = 'burtond-challenge-filenames.csv'\n",
    "df = pd.read_csv(csv_file_path,header=None)\n",
    "\n",
    "for i in df[0][:20]:\n",
    "# URL of the file you want to download\n",
    "    file_url = 'https://cs7ns1.scss.tcd.ie/?shortname=burtond&myfilename='+i\n",
    "\n",
    "    # Send a GET request to the URL\n",
    "    response = requests.get(file_url)\n",
    "\n",
    "    # Check if the request was successful (status code 200)\n",
    "    if response.status_code == 200:\n",
    "        # Extract the filename from the URL or provide a filename\n",
    "        filename = 'dataset/'+i\n",
    "        # Open a file in binary write mode and write the content to it\n",
    "        with open(filename, 'wb') as file:\n",
    "            file.write(response.content)\n",
    "\n",
    "        print(f\"File '{filename}' has been downloaded successfully.\")\n",
    "    else:\n",
    "        print(f\"Failed to download the file. Status code: {response.status_code}\")"
   ]
  },
  {
   "cell_type": "code",
   "execution_count": null,
   "id": "cd44e937",
   "metadata": {},
   "outputs": [],
   "source": []
  }
 ],
 "metadata": {
  "kernelspec": {
   "display_name": "Python 3 (ipykernel)",
   "language": "python",
   "name": "python3"
  },
  "language_info": {
   "codemirror_mode": {
    "name": "ipython",
    "version": 3
   },
   "file_extension": ".py",
   "mimetype": "text/x-python",
   "name": "python",
   "nbconvert_exporter": "python",
   "pygments_lexer": "ipython3",
   "version": "3.11.4"
  }
 },
 "nbformat": 4,
 "nbformat_minor": 5
}
