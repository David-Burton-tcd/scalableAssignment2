{
 "cells": [
  {
   "cell_type": "code",
   "execution_count": 2,
   "id": "b07ff27e",
   "metadata": {},
   "outputs": [
    {
     "name": "stdout",
     "output_type": "stream",
     "text": [
      "0          0W9\n",
      "1          745\n",
      "2          D0g\n",
      "3          jnh\n",
      "4           T2\n",
      "         ...  \n",
      "1995       ]64\n",
      "1996     {QP8]\n",
      "1997       sXY\n",
      "1998     ]7\\W:\n",
      "1999    hU6+cA\n",
      "Name: Unnamed: 1, Length: 2000, dtype: object\n"
     ]
    }
   ],
   "source": [
    "import pandas as pd\n",
    "df = pd.read_csv('srivastp.csv', sep=',')\n",
    "X = df.iloc[:,1]\n",
    "print(X)"
   ]
  },
  {
   "cell_type": "code",
   "execution_count": 3,
   "id": "215c20d4",
   "metadata": {},
   "outputs": [
    {
     "name": "stdout",
     "output_type": "stream",
     "text": [
      "['0', 'W', '9', '7', '4', '5', 'D', 'g', 'j', 'n', 'h', 'T', '2', '-', '6', 'c', 'X', 'U', 'R', 's', 'P', ':', 'A', 'Y', 'e', '}', '[', '8', 'V', 'k', '%', '#', 'F', '\\\\', 'Z', 'Q', '+', '3', '1', 'M', 'B', ']', '{']\n"
     ]
    }
   ],
   "source": [
    "chars = []\n",
    "for i in X:\n",
    "    for character in i:\n",
    "        if character not in chars:\n",
    "            chars.append(character)\n",
    "print(chars)"
   ]
  },
  {
   "cell_type": "code",
   "execution_count": null,
   "id": "8ee31b80",
   "metadata": {},
   "outputs": [],
   "source": []
  }
 ],
 "metadata": {
  "kernelspec": {
   "display_name": "Python 3 (ipykernel)",
   "language": "python",
   "name": "python3"
  },
  "language_info": {
   "codemirror_mode": {
    "name": "ipython",
    "version": 3
   },
   "file_extension": ".py",
   "mimetype": "text/x-python",
   "name": "python",
   "nbconvert_exporter": "python",
   "pygments_lexer": "ipython3",
   "version": "3.11.4"
  }
 },
 "nbformat": 4,
 "nbformat_minor": 5
}
